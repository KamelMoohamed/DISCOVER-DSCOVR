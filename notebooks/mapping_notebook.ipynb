{
  "nbformat": 4,
  "nbformat_minor": 0,
  "metadata": {
    "colab": {
      "provenance": [],
      "gpuType": "T4"
    },
    "kernelspec": {
      "name": "python3",
      "display_name": "Python 3"
    },
    "language_info": {
      "name": "python"
    },
    "accelerator": "GPU"
  },
  "cells": [
    {
      "cell_type": "code",
      "source": [
        "import tensorflow as tf\n",
        "from tensorflow.keras.models import Sequential\n",
        "from tensorflow.keras.layers import LSTM, Dense\n",
        "import pandas as pd\n",
        "import numpy as np"
      ],
      "metadata": {
        "id": "G_WPHjWpsE2B"
      },
      "execution_count": 10,
      "outputs": []
    },
    {
      "cell_type": "code",
      "source": [
        "mag_data = pd.read_csv('/content/drive/MyDrive/Nasa/processed_data_with_label/202009.csv')\n",
        "\n",
        "X_columns = ['wind_bx_gsm'\t,'wind_by_gsm'\t,'wind_bz_gsm'\t,'wind_bx_gse'\t,'wind_by_gse'\t,'wind_bz_gse'\t]\n",
        "y_columns = ['dsc_bx_gsm'\t,'dsc_by_gsm'\t,'dsc_bz_gsm'\t,'dsc_bx_gse'\t,'dsc_by_gse'\t,'dsc_bz_gse'\t]"
      ],
      "metadata": {
        "id": "G0x1sAUQsimS"
      },
      "execution_count": 11,
      "outputs": []
    },
    {
      "cell_type": "code",
      "source": [
        "X = mag_data[X_columns].values\n",
        "y = mag_data[y_columns].values"
      ],
      "metadata": {
        "id": "luzkAV1ws33n"
      },
      "execution_count": 12,
      "outputs": []
    },
    {
      "cell_type": "code",
      "execution_count": null,
      "metadata": {
        "id": "fERxRYVbrmgv"
      },
      "outputs": [],
      "source": [
        "# Define the input shape and sequence length\n",
        "input_shape = (10, 6)  # Change the sequence length and features as needed\n",
        "\n",
        "# Create a Sequential model\n",
        "model = Sequential()\n",
        "\n",
        "# Add the first LSTM layer\n",
        "model.add(LSTM(64, return_sequences=True, input_shape=input_shape))\n",
        "\n",
        "# Add the second LSTM layer\n",
        "model.add(LSTM(64, return_sequences=False))\n",
        "\n",
        "# Add a dense output layer with 8 units (adjust as needed)\n",
        "model.add(Dense(6, activation='linear'))  # Example with 8 output units and linear activation\n",
        "\n",
        "# Compile the model\n",
        "model.compile(optimizer='adam', loss='mean_squared_error')  # Choose the appropriate loss function\n",
        "\n",
        "# Print the model summary\n",
        "model.summary()"
      ]
    },
    {
      "cell_type": "code",
      "source": [
        "sequence_length = 10\n",
        "num_features = 6\n",
        "\n",
        "def sequence_creation(data, num_features, sequence_length):\n",
        "  # Create sequences of data\n",
        "  sequences = []\n",
        "  for i in range(len(X) - sequence_length + 1):\n",
        "      sequence = data[i:i + sequence_length]\n",
        "      sequences.append(sequence)\n",
        "\n",
        "  # Convert the list of sequences to a NumPy array\n",
        "  sequences = np.array(sequences)\n",
        "\n",
        "  # 'sequences' now has the shape (991, 10, 6)\n",
        "\n",
        "  # Reshape 'sequences' for LSTM input\n",
        "  output = sequences.reshape(-1, sequence_length, num_features)\n",
        "  return output"
      ],
      "metadata": {
        "id": "OTIKN8PHsKIW"
      },
      "execution_count": 14,
      "outputs": []
    },
    {
      "cell_type": "code",
      "source": [
        "new_X = sequence_creation(X, num_features, sequence_length)\n"
      ],
      "metadata": {
        "id": "MV6V-H63tNIf"
      },
      "execution_count": 15,
      "outputs": []
    },
    {
      "cell_type": "code",
      "source": [
        "new_X.shape, y.shape"
      ],
      "metadata": {
        "id": "Q7QMlHtJtozd"
      },
      "execution_count": null,
      "outputs": []
    },
    {
      "cell_type": "code",
      "source": [
        "model.fit(new_X, y, batch_size = 32, epochs = 5, validation_split= 0.1, shuffle = True)"
      ],
      "metadata": {
        "id": "gYWY41M_sPrP"
      },
      "execution_count": null,
      "outputs": []
    },
    {
      "cell_type": "code",
      "source": [
        "model.save('/content/drive/MyDrive/Nasa/mapping_mag.h5')"
      ],
      "metadata": {
        "id": "30Iso7cFtv3k"
      },
      "execution_count": null,
      "outputs": []
    },
    {
      "cell_type": "code",
      "source": [
        "protons_data = pd.read_csv('/content/drive/MyDrive/Nasa/processed_protons_with_label/202009.csv')\n",
        "X_columns = ['proton_vx_gse', 'proton_vy_gse', 'proton_vz_gse', 'proton_vx_gsm', 'proton_vy_gsm', 'proton_vz_gsm', 'proton_speed', 'proton_temperature'\t]\n",
        "y_columns = ['Proton_V_nonlin', 'Proton_sigmaV_nonlin', 'Proton_VX_nonlin', 'Proton_sigmaVX_nonlin', 'Proton_VY_nonlin', 'Proton_sigmaVY_nonlin', 'Proton_VZ_nonlin', 'Proton_sigmaVZ_nonlin'\t]"
      ],
      "metadata": {
        "id": "-0Db6Pjiz--C"
      },
      "execution_count": 27,
      "outputs": []
    },
    {
      "cell_type": "code",
      "source": [
        "X = protons_data[X_columns].values\n",
        "y = protons_data[y_columns].values"
      ],
      "metadata": {
        "id": "bf9C6h2p0uVJ"
      },
      "execution_count": 28,
      "outputs": []
    },
    {
      "cell_type": "code",
      "source": [
        "# Define the input shape and sequence length\n",
        "input_shape = (10, 8)  # Change the sequence length and features as needed\n",
        "\n",
        "# Create a Sequential model\n",
        "model2 = Sequential()\n",
        "\n",
        "# Add the first LSTM layer\n",
        "model2.add(LSTM(64, return_sequences=True, input_shape=input_shape))\n",
        "\n",
        "# Add the second LSTM layer\n",
        "model2.add(LSTM(64, return_sequences=False))\n",
        "\n",
        "# Add a dense output layer with 8 units (adjust as needed)\n",
        "model2.add(Dense(8, activation='linear'))  # Example with 8 output units and linear activation\n",
        "\n",
        "# Compile the model\n",
        "model2.compile(optimizer='adam', loss='mean_squared_error')  # Choose the appropriate loss function\n",
        "\n",
        "# Print the model summary\n",
        "model2.summary()"
      ],
      "metadata": {
        "id": "fa_IJq6dz1XF"
      },
      "execution_count": null,
      "outputs": []
    },
    {
      "cell_type": "code",
      "source": [
        "new_X = sequence_creation(X, 8, 10)"
      ],
      "metadata": {
        "id": "t_HxSiSu0x_P"
      },
      "execution_count": 30,
      "outputs": []
    },
    {
      "cell_type": "code",
      "source": [
        "model2.fit(new_X, y, batch_size = 32, epochs = 5, validation_split = 0.1, shuffle = True)"
      ],
      "metadata": {
        "id": "wPVtgNy305tP"
      },
      "execution_count": null,
      "outputs": []
    },
    {
      "cell_type": "code",
      "source": [
        "model2.save('/content/drive/MyDrive/Nasa/mapping_proton.h5')"
      ],
      "metadata": {
        "id": "XeUqV-c11F6L"
      },
      "execution_count": null,
      "outputs": []
    }
  ]
}