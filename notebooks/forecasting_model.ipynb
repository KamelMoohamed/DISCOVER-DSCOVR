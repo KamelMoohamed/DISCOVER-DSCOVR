{
 "cells": [
  {
   "cell_type": "code",
   "execution_count": 1,
   "metadata": {
    "id": "VKt2gOc_KxfX"
   },
   "outputs": [],
   "source": [
    "import numpy as np\n",
    "import pandas as pd"
   ]
  },
  {
   "cell_type": "code",
   "execution_count": 2,
   "metadata": {
    "colab": {
     "base_uri": "https://localhost:8080/"
    },
    "id": "6zff0UQAKh5c",
    "outputId": "74fc934e-d597-43d9-93b9-9db7bf0b47d3"
   },
   "outputs": [
    {
     "data": {
      "text/plain": [
       "[PhysicalDevice(name='/physical_device:GPU:0', device_type='GPU')]"
      ]
     },
     "execution_count": 2,
     "metadata": {},
     "output_type": "execute_result"
    }
   ],
   "source": [
    "import tensorflow as tf\n",
    "\n",
    "tf.config.list_physical_devices('GPU')"
   ]
  },
  {
   "cell_type": "code",
   "execution_count": 3,
   "metadata": {
    "id": "sjZnxjIlKh0j"
   },
   "outputs": [],
   "source": [
    "df = pd.read_csv('C://Users/kamel/Downloads/Nasa_Space_Apps_2023/New Folder/Mag_202009.csv')"
   ]
  },
  {
   "cell_type": "code",
   "execution_count": 4,
   "metadata": {
    "colab": {
     "base_uri": "https://localhost:8080/",
     "height": 226
    },
    "id": "necukhY2L-fO",
    "outputId": "21cc8c8d-13dd-4116-d8fc-bb3973cbddf3"
   },
   "outputs": [
    {
     "data": {
      "text/html": [
       "<div>\n",
       "<style scoped>\n",
       "    .dataframe tbody tr th:only-of-type {\n",
       "        vertical-align: middle;\n",
       "    }\n",
       "\n",
       "    .dataframe tbody tr th {\n",
       "        vertical-align: top;\n",
       "    }\n",
       "\n",
       "    .dataframe thead th {\n",
       "        text-align: right;\n",
       "    }\n",
       "</style>\n",
       "<table border=\"1\" class=\"dataframe\">\n",
       "  <thead>\n",
       "    <tr style=\"text-align: right;\">\n",
       "      <th></th>\n",
       "      <th>Unnamed: 0</th>\n",
       "      <th>dsc_time</th>\n",
       "      <th>dsc_bx_gse</th>\n",
       "      <th>dsc_by_gse</th>\n",
       "      <th>dsc_bz_gse</th>\n",
       "      <th>dsc_bx_gsm</th>\n",
       "      <th>dsc_by_gsm</th>\n",
       "      <th>dsc_bz_gsm</th>\n",
       "      <th>wind_bx_gsm</th>\n",
       "      <th>wind_by_gsm</th>\n",
       "      <th>wind_bz_gsm</th>\n",
       "      <th>wind_bx_gse</th>\n",
       "      <th>wind_by_gse</th>\n",
       "      <th>wind_bz_gse</th>\n",
       "      <th>Kp_index</th>\n",
       "    </tr>\n",
       "  </thead>\n",
       "  <tbody>\n",
       "    <tr>\n",
       "      <th>0</th>\n",
       "      <td>0</td>\n",
       "      <td>1.598918e+12</td>\n",
       "      <td>-4.83432</td>\n",
       "      <td>2.70984</td>\n",
       "      <td>2.28954</td>\n",
       "      <td>-4.83432</td>\n",
       "      <td>3.15709</td>\n",
       "      <td>1.61803</td>\n",
       "      <td>-4.926943</td>\n",
       "      <td>1.783888</td>\n",
       "      <td>2.347001</td>\n",
       "      <td>-4.926910</td>\n",
       "      <td>1.219141</td>\n",
       "      <td>2.684156</td>\n",
       "      <td>2.667000</td>\n",
       "    </tr>\n",
       "    <tr>\n",
       "      <th>1</th>\n",
       "      <td>1</td>\n",
       "      <td>1.598918e+12</td>\n",
       "      <td>-4.74703</td>\n",
       "      <td>2.64466</td>\n",
       "      <td>2.89804</td>\n",
       "      <td>-4.74703</td>\n",
       "      <td>3.23111</td>\n",
       "      <td>2.22549</td>\n",
       "      <td>-5.043280</td>\n",
       "      <td>1.701327</td>\n",
       "      <td>2.263781</td>\n",
       "      <td>-5.043248</td>\n",
       "      <td>1.157067</td>\n",
       "      <td>2.584713</td>\n",
       "      <td>2.667285</td>\n",
       "    </tr>\n",
       "    <tr>\n",
       "      <th>2</th>\n",
       "      <td>2</td>\n",
       "      <td>1.598918e+12</td>\n",
       "      <td>-4.80204</td>\n",
       "      <td>2.84128</td>\n",
       "      <td>2.37969</td>\n",
       "      <td>-4.80204</td>\n",
       "      <td>3.30553</td>\n",
       "      <td>1.67610</td>\n",
       "      <td>-5.076955</td>\n",
       "      <td>1.674740</td>\n",
       "      <td>2.309296</td>\n",
       "      <td>-5.076922</td>\n",
       "      <td>1.121032</td>\n",
       "      <td>2.623209</td>\n",
       "      <td>2.667570</td>\n",
       "    </tr>\n",
       "    <tr>\n",
       "      <th>3</th>\n",
       "      <td>3</td>\n",
       "      <td>1.598918e+12</td>\n",
       "      <td>-5.03538</td>\n",
       "      <td>2.26547</td>\n",
       "      <td>2.32653</td>\n",
       "      <td>-5.03538</td>\n",
       "      <td>2.73261</td>\n",
       "      <td>1.75441</td>\n",
       "      <td>-5.060141</td>\n",
       "      <td>1.883296</td>\n",
       "      <td>2.159540</td>\n",
       "      <td>-5.060109</td>\n",
       "      <td>1.357583</td>\n",
       "      <td>2.523431</td>\n",
       "      <td>2.667854</td>\n",
       "    </tr>\n",
       "    <tr>\n",
       "      <th>4</th>\n",
       "      <td>4</td>\n",
       "      <td>1.598918e+12</td>\n",
       "      <td>-4.88532</td>\n",
       "      <td>2.38189</td>\n",
       "      <td>2.68457</td>\n",
       "      <td>-4.88532</td>\n",
       "      <td>2.92694</td>\n",
       "      <td>2.07685</td>\n",
       "      <td>-5.060983</td>\n",
       "      <td>1.807573</td>\n",
       "      <td>2.088971</td>\n",
       "      <td>-5.060953</td>\n",
       "      <td>1.299375</td>\n",
       "      <td>2.437838</td>\n",
       "      <td>2.668139</td>\n",
       "    </tr>\n",
       "  </tbody>\n",
       "</table>\n",
       "</div>"
      ],
      "text/plain": [
       "   Unnamed: 0      dsc_time  dsc_bx_gse  dsc_by_gse  dsc_bz_gse  dsc_bx_gsm  \\\n",
       "0           0  1.598918e+12    -4.83432     2.70984     2.28954    -4.83432   \n",
       "1           1  1.598918e+12    -4.74703     2.64466     2.89804    -4.74703   \n",
       "2           2  1.598918e+12    -4.80204     2.84128     2.37969    -4.80204   \n",
       "3           3  1.598918e+12    -5.03538     2.26547     2.32653    -5.03538   \n",
       "4           4  1.598918e+12    -4.88532     2.38189     2.68457    -4.88532   \n",
       "\n",
       "   dsc_by_gsm  dsc_bz_gsm  wind_bx_gsm  wind_by_gsm  wind_bz_gsm  wind_bx_gse  \\\n",
       "0     3.15709     1.61803    -4.926943     1.783888     2.347001    -4.926910   \n",
       "1     3.23111     2.22549    -5.043280     1.701327     2.263781    -5.043248   \n",
       "2     3.30553     1.67610    -5.076955     1.674740     2.309296    -5.076922   \n",
       "3     2.73261     1.75441    -5.060141     1.883296     2.159540    -5.060109   \n",
       "4     2.92694     2.07685    -5.060983     1.807573     2.088971    -5.060953   \n",
       "\n",
       "   wind_by_gse  wind_bz_gse  Kp_index  \n",
       "0     1.219141     2.684156  2.667000  \n",
       "1     1.157067     2.584713  2.667285  \n",
       "2     1.121032     2.623209  2.667570  \n",
       "3     1.357583     2.523431  2.667854  \n",
       "4     1.299375     2.437838  2.668139  "
      ]
     },
     "execution_count": 4,
     "metadata": {},
     "output_type": "execute_result"
    }
   ],
   "source": [
    "df.head()"
   ]
  },
  {
   "cell_type": "code",
   "execution_count": 5,
   "metadata": {
    "colab": {
     "base_uri": "https://localhost:8080/",
     "height": 443
    },
    "id": "_N9hOOIXKho-",
    "outputId": "2a818122-c29a-442c-f2c3-da996af6ee76"
   },
   "outputs": [
    {
     "data": {
      "text/html": [
       "<div>\n",
       "<style scoped>\n",
       "    .dataframe tbody tr th:only-of-type {\n",
       "        vertical-align: middle;\n",
       "    }\n",
       "\n",
       "    .dataframe tbody tr th {\n",
       "        vertical-align: top;\n",
       "    }\n",
       "\n",
       "    .dataframe thead th {\n",
       "        text-align: right;\n",
       "    }\n",
       "</style>\n",
       "<table border=\"1\" class=\"dataframe\">\n",
       "  <thead>\n",
       "    <tr style=\"text-align: right;\">\n",
       "      <th></th>\n",
       "      <th>wind_bx_gsm</th>\n",
       "      <th>wind_by_gsm</th>\n",
       "      <th>wind_bz_gsm</th>\n",
       "      <th>wind_bx_gse</th>\n",
       "      <th>wind_by_gse</th>\n",
       "      <th>wind_bz_gse</th>\n",
       "    </tr>\n",
       "  </thead>\n",
       "  <tbody>\n",
       "    <tr>\n",
       "      <th>0</th>\n",
       "      <td>-4.926943</td>\n",
       "      <td>1.783888</td>\n",
       "      <td>2.347001</td>\n",
       "      <td>-4.926910</td>\n",
       "      <td>1.219141</td>\n",
       "      <td>2.684156</td>\n",
       "    </tr>\n",
       "    <tr>\n",
       "      <th>1</th>\n",
       "      <td>-5.043280</td>\n",
       "      <td>1.701327</td>\n",
       "      <td>2.263781</td>\n",
       "      <td>-5.043248</td>\n",
       "      <td>1.157067</td>\n",
       "      <td>2.584713</td>\n",
       "    </tr>\n",
       "    <tr>\n",
       "      <th>2</th>\n",
       "      <td>-5.076955</td>\n",
       "      <td>1.674740</td>\n",
       "      <td>2.309296</td>\n",
       "      <td>-5.076922</td>\n",
       "      <td>1.121032</td>\n",
       "      <td>2.623209</td>\n",
       "    </tr>\n",
       "    <tr>\n",
       "      <th>3</th>\n",
       "      <td>-5.060141</td>\n",
       "      <td>1.883296</td>\n",
       "      <td>2.159540</td>\n",
       "      <td>-5.060109</td>\n",
       "      <td>1.357583</td>\n",
       "      <td>2.523431</td>\n",
       "    </tr>\n",
       "    <tr>\n",
       "      <th>4</th>\n",
       "      <td>-5.060983</td>\n",
       "      <td>1.807573</td>\n",
       "      <td>2.088971</td>\n",
       "      <td>-5.060953</td>\n",
       "      <td>1.299375</td>\n",
       "      <td>2.437838</td>\n",
       "    </tr>\n",
       "    <tr>\n",
       "      <th>...</th>\n",
       "      <td>...</td>\n",
       "      <td>...</td>\n",
       "      <td>...</td>\n",
       "      <td>...</td>\n",
       "      <td>...</td>\n",
       "      <td>...</td>\n",
       "    </tr>\n",
       "    <tr>\n",
       "      <th>799995</th>\n",
       "      <td>-3.287959</td>\n",
       "      <td>-0.291909</td>\n",
       "      <td>-0.097142</td>\n",
       "      <td>-3.287959</td>\n",
       "      <td>-0.237163</td>\n",
       "      <td>-0.195966</td>\n",
       "    </tr>\n",
       "    <tr>\n",
       "      <th>799996</th>\n",
       "      <td>-3.275213</td>\n",
       "      <td>-0.320090</td>\n",
       "      <td>-0.105602</td>\n",
       "      <td>-3.275213</td>\n",
       "      <td>-0.260386</td>\n",
       "      <td>-0.214034</td>\n",
       "    </tr>\n",
       "    <tr>\n",
       "      <th>799997</th>\n",
       "      <td>-3.256751</td>\n",
       "      <td>-0.322042</td>\n",
       "      <td>-0.078700</td>\n",
       "      <td>-3.256751</td>\n",
       "      <td>-0.271913</td>\n",
       "      <td>-0.189657</td>\n",
       "    </tr>\n",
       "    <tr>\n",
       "      <th>799998</th>\n",
       "      <td>-3.227058</td>\n",
       "      <td>-0.323206</td>\n",
       "      <td>-0.096004</td>\n",
       "      <td>-3.227058</td>\n",
       "      <td>-0.266747</td>\n",
       "      <td>-0.206220</td>\n",
       "    </tr>\n",
       "    <tr>\n",
       "      <th>799999</th>\n",
       "      <td>-3.258253</td>\n",
       "      <td>-0.333330</td>\n",
       "      <td>-0.062238</td>\n",
       "      <td>-3.258253</td>\n",
       "      <td>-0.288374</td>\n",
       "      <td>-0.178393</td>\n",
       "    </tr>\n",
       "  </tbody>\n",
       "</table>\n",
       "<p>800000 rows × 6 columns</p>\n",
       "</div>"
      ],
      "text/plain": [
       "        wind_bx_gsm  wind_by_gsm  wind_bz_gsm  wind_bx_gse  wind_by_gse  \\\n",
       "0         -4.926943     1.783888     2.347001    -4.926910     1.219141   \n",
       "1         -5.043280     1.701327     2.263781    -5.043248     1.157067   \n",
       "2         -5.076955     1.674740     2.309296    -5.076922     1.121032   \n",
       "3         -5.060141     1.883296     2.159540    -5.060109     1.357583   \n",
       "4         -5.060983     1.807573     2.088971    -5.060953     1.299375   \n",
       "...             ...          ...          ...          ...          ...   \n",
       "799995    -3.287959    -0.291909    -0.097142    -3.287959    -0.237163   \n",
       "799996    -3.275213    -0.320090    -0.105602    -3.275213    -0.260386   \n",
       "799997    -3.256751    -0.322042    -0.078700    -3.256751    -0.271913   \n",
       "799998    -3.227058    -0.323206    -0.096004    -3.227058    -0.266747   \n",
       "799999    -3.258253    -0.333330    -0.062238    -3.258253    -0.288374   \n",
       "\n",
       "        wind_bz_gse  \n",
       "0          2.684156  \n",
       "1          2.584713  \n",
       "2          2.623209  \n",
       "3          2.523431  \n",
       "4          2.437838  \n",
       "...             ...  \n",
       "799995    -0.195966  \n",
       "799996    -0.214034  \n",
       "799997    -0.189657  \n",
       "799998    -0.206220  \n",
       "799999    -0.178393  \n",
       "\n",
       "[800000 rows x 6 columns]"
      ]
     },
     "execution_count": 5,
     "metadata": {},
     "output_type": "execute_result"
    }
   ],
   "source": [
    "updatedDf = df.iloc[:800000, 8:-1]\n",
    "updatedDf"
   ]
  },
  {
   "cell_type": "code",
   "execution_count": 6,
   "metadata": {
    "id": "QsB29_Pu3vX-"
   },
   "outputs": [],
   "source": [
    "def process_input(df, numOfFeatures = 6, numOfDataPoints=70):\n",
    "    X = []\n",
    "    y = []\n",
    "    time = []\n",
    "    \n",
    "    dfAsNumpy = df.to_numpy()\n",
    "    \n",
    "    for i in range(len(dfAsNumpy) - numOfDataPoints):\n",
    "        row = [r for r in dfAsNumpy[i : i + numOfDataPoints]]\n",
    "        X.append(row)\n",
    "        \n",
    "        label = dfAsNumpy[i + numOfDataPoints][:numOfFeatures]\n",
    "        y.append(label)\n",
    "        \n",
    "    return np.array(X), np.array(y)"
   ]
  },
  {
   "cell_type": "code",
   "execution_count": 7,
   "metadata": {
    "id": "_WpiuuCm5hxQ"
   },
   "outputs": [],
   "source": [
    "numOfDataPoints = 70\n",
    "numOfFeatures = 6\n",
    "X, y = process_input(updatedDf, numOfFeatures, numOfDataPoints)"
   ]
  },
  {
   "cell_type": "code",
   "execution_count": 8,
   "metadata": {
    "colab": {
     "base_uri": "https://localhost:8080/"
    },
    "id": "uKhhUOmq1DfB",
    "outputId": "e04c91d2-8d56-44a5-ff8e-6dea3d640063"
   },
   "outputs": [
    {
     "data": {
      "text/plain": [
       "((799930, 70, 6), (799930, 6))"
      ]
     },
     "execution_count": 8,
     "metadata": {},
     "output_type": "execute_result"
    }
   ],
   "source": [
    "X.shape, y.shape"
   ]
  },
  {
   "cell_type": "code",
   "execution_count": 9,
   "metadata": {
    "id": "SObXYiav4AN4"
   },
   "outputs": [],
   "source": [
    "def train_test_split(X, y, testPercentage=0.2):\n",
    "    num_rows = X.shape[0]\n",
    "    num_test = int(num_rows * testPercentage)\n",
    "    X_train, X_test = X[:-num_test], X[-num_test:]\n",
    "    y_train, y_test = y[:-num_test], y[-num_test:]\n",
    "    return X_train, X_test, y_train, y_test"
   ]
  },
  {
   "cell_type": "code",
   "execution_count": 10,
   "metadata": {
    "id": "N6jGw5el4r1w"
   },
   "outputs": [],
   "source": [
    "X_train, X_test, y_train, y_test = train_test_split(X, y, 0.3)"
   ]
  },
  {
   "cell_type": "code",
   "execution_count": 11,
   "metadata": {
    "id": "75SxzNkL8DNh"
   },
   "outputs": [],
   "source": [
    "del X\n",
    "del y"
   ]
  },
  {
   "cell_type": "code",
   "execution_count": 12,
   "metadata": {
    "colab": {
     "base_uri": "https://localhost:8080/"
    },
    "id": "QoadpP4DGp3a",
    "outputId": "2d398324-e240-48a2-891f-0d6b5ed0de3f"
   },
   "outputs": [
    {
     "name": "stdout",
     "output_type": "stream",
     "text": [
      "Model: \"model\"\n",
      "__________________________________________________________________________________________________\n",
      " Layer (type)                   Output Shape         Param #     Connected to                     \n",
      "==================================================================================================\n",
      " encoder_input (InputLayer)     [(None, 70, 6)]      0           []                               \n",
      "                                                                                                  \n",
      " layer_normalization (LayerNorm  (None, 70, 6)       12          ['encoder_input[0][0]']          \n",
      " alization)                                                                                       \n",
      "                                                                                                  \n",
      " multi_head_attention (MultiHea  (None, 70, 6)       1302        ['layer_normalization[0][0]',    \n",
      " dAttention)                                                      'layer_normalization[0][0]']    \n",
      "                                                                                                  \n",
      " dropout (Dropout)              (None, 70, 6)        0           ['multi_head_attention[0][0]']   \n",
      "                                                                                                  \n",
      " add (Add)                      (None, 70, 6)        0           ['dropout[0][0]',                \n",
      "                                                                  'encoder_input[0][0]']          \n",
      "                                                                                                  \n",
      " layer_normalization_1 (LayerNo  (None, 70, 6)       12          ['add[0][0]']                    \n",
      " rmalization)                                                                                     \n",
      "                                                                                                  \n",
      " dense (Dense)                  (None, 70, 512)      3584        ['layer_normalization_1[0][0]']  \n",
      "                                                                                                  \n",
      " dense_1 (Dense)                (None, 70, 6)        3078        ['dense[0][0]']                  \n",
      "                                                                                                  \n",
      " dropout_1 (Dropout)            (None, 70, 6)        0           ['dense_1[0][0]']                \n",
      "                                                                                                  \n",
      " add_1 (Add)                    (None, 70, 6)        0           ['dropout_1[0][0]',              \n",
      "                                                                  'add[0][0]']                    \n",
      "                                                                                                  \n",
      " masking (Masking)              (None, 70, 6)        0           ['add_1[0][0]']                  \n",
      "                                                                                                  \n",
      " layer_normalization_2 (LayerNo  (None, 70, 6)       12          ['masking[0][0]']                \n",
      " rmalization)                                                                                     \n",
      "                                                                                                  \n",
      " multi_head_attention_1 (MultiH  (None, 70, 6)       1302        ['layer_normalization_2[0][0]',  \n",
      " eadAttention)                                                    'layer_normalization_2[0][0]']  \n",
      "                                                                                                  \n",
      " dropout_2 (Dropout)            (None, 70, 6)        0           ['multi_head_attention_1[0][0]'] \n",
      "                                                                                                  \n",
      " add_2 (Add)                    (None, 70, 6)        0           ['dropout_2[0][0]',              \n",
      "                                                                  'add_1[0][0]']                  \n",
      "                                                                                                  \n",
      " layer_normalization_3 (LayerNo  (None, 70, 6)       12          ['add_2[0][0]']                  \n",
      " rmalization)                                                                                     \n",
      "                                                                                                  \n",
      " dense_2 (Dense)                (None, 70, 512)      3584        ['layer_normalization_3[0][0]']  \n",
      "                                                                                                  \n",
      " dense_3 (Dense)                (None, 70, 6)        3078        ['dense_2[0][0]']                \n",
      "                                                                                                  \n",
      " dropout_3 (Dropout)            (None, 70, 6)        0           ['dense_3[0][0]']                \n",
      "                                                                                                  \n",
      " add_3 (Add)                    (None, 70, 6)        0           ['dropout_3[0][0]',              \n",
      "                                                                  'add_2[0][0]']                  \n",
      "                                                                                                  \n",
      " flatten (Flatten)              (None, 420)          0           ['add_3[0][0]']                  \n",
      "                                                                                                  \n",
      " dense_4 (Dense)                (None, 6)            2526        ['flatten[0][0]']                \n",
      "                                                                                                  \n",
      "==================================================================================================\n",
      "Total params: 18,502\n",
      "Trainable params: 18,502\n",
      "Non-trainable params: 0\n",
      "__________________________________________________________________________________________________\n"
     ]
    }
   ],
   "source": [
    "import tensorflow as tf\n",
    "from tensorflow.keras.models import Model\n",
    "from tensorflow.keras.layers import Input, LayerNormalization, MultiHeadAttention, Dropout, Add, Dense, Masking, Flatten\n",
    "from tensorflow.keras.optimizers import Adam\n",
    "\n",
    "def transformer_encoder(inputs, d_model, num_heads, ff_dim, dropout=0.1):\n",
    "    x = LayerNormalization(epsilon=1e-6)(inputs)\n",
    "    attention_output = MultiHeadAttention(num_heads=num_heads, key_dim=d_model)(x, x)\n",
    "    x = Dropout(dropout)(attention_output)\n",
    "    res = Add()([x, inputs])\n",
    "\n",
    "    # Feed-forward network\n",
    "    x = LayerNormalization(epsilon=1e-6)(res)\n",
    "    x = Dense(ff_dim, activation='relu')(x)\n",
    "    x = Dense(d_model)(x)\n",
    "    x = Dropout(dropout)(x)\n",
    "\n",
    "    return Add()([x, res])\n",
    "\n",
    "def transformer_decoder(inputs, target_seq_length, d_model, num_heads, ff_dim, dropout=0.1):\n",
    "    x = Masking()(inputs)\n",
    "    x = LayerNormalization(epsilon=1e-6)(x)\n",
    "\n",
    "    # Self-Attention layer (masked self-attention for decoder)\n",
    "    x = MultiHeadAttention(num_heads=num_heads, key_dim=d_model)(x, x)\n",
    "    x = Dropout(dropout)(x)\n",
    "    res = Add()([x, inputs])\n",
    "\n",
    "    # Feed-forward network\n",
    "    x = LayerNormalization(epsilon=1e-6)(res)\n",
    "    x = Dense(ff_dim, activation='relu')(x)\n",
    "    x = Dense(d_model)(x)\n",
    "    x = Dropout(dropout)(x)\n",
    "\n",
    "    return Add()([x, res])\n",
    "\n",
    "# Hyperparameters\n",
    "d_model = 6\n",
    "num_heads = 8\n",
    "ff_dim = 512\n",
    "input_sequence_length = 70\n",
    "target_sequence_length = 6\n",
    "\n",
    "encoder_input_layer = Input(shape=(input_sequence_length, d_model), name='encoder_input')\n",
    "encoder_output = transformer_encoder(encoder_input_layer, d_model, num_heads, ff_dim)\n",
    "\n",
    "decoder_output = transformer_decoder(encoder_output, target_sequence_length, d_model, num_heads, ff_dim)\n",
    "\n",
    "# Flatten and add the Dense layer to reduce the output dimensions\n",
    "flattened_output = Flatten()(decoder_output)\n",
    "final_output = Dense(6)(flattened_output)\n",
    "\n",
    "unified_model = Model(inputs=[encoder_input_layer], outputs=[final_output])\n",
    "\n",
    "# Compile and train the model\n",
    "unified_model.compile(optimizer=Adam(learning_rate=0.001), loss='mean_squared_error')\n",
    "\n",
    "# Model summary to see the architecture and output shapes\n",
    "unified_model.summary()"
   ]
  },
  {
   "cell_type": "code",
   "execution_count": 13,
   "metadata": {
    "colab": {
     "base_uri": "https://localhost:8080/",
     "height": 423
    },
    "id": "miqVyZ1YRE09",
    "outputId": "60acaf55-6019-40e0-b8f6-620ac14a0c36"
   },
   "outputs": [
    {
     "name": "stdout",
     "output_type": "stream",
     "text": [
      "Epoch 1/10\n",
      "17499/17499 [==============================] - 128s 7ms/step - loss: 0.0530\n",
      "Epoch 2/10\n",
      "17499/17499 [==============================] - 131s 7ms/step - loss: 0.0330\n",
      "Epoch 3/10\n",
      "17499/17499 [==============================] - 222s 13ms/step - loss: 0.0321\n",
      "Epoch 4/10\n",
      "17499/17499 [==============================] - 286s 16ms/step - loss: 0.0321\n",
      "Epoch 5/10\n",
      "17499/17499 [==============================] - 194s 11ms/step - loss: 0.0322\n",
      "Epoch 6/10\n",
      "17499/17499 [==============================] - 134s 8ms/step - loss: 0.0322\n",
      "Epoch 7/10\n",
      "17499/17499 [==============================] - 136s 8ms/step - loss: 0.0322\n",
      "Epoch 8/10\n",
      "17499/17499 [==============================] - 135s 8ms/step - loss: 0.0323\n",
      "Epoch 9/10\n",
      "17499/17499 [==============================] - 132s 8ms/step - loss: 0.0322\n",
      "Epoch 10/10\n",
      "17499/17499 [==============================] - 548s 31ms/step - loss: 0.0321\n"
     ]
    },
    {
     "data": {
      "text/plain": [
       "<keras.callbacks.History at 0x2cb0758c670>"
      ]
     },
     "execution_count": 13,
     "metadata": {},
     "output_type": "execute_result"
    }
   ],
   "source": [
    "unified_model.fit(X_train, y_train, epochs=10, batch_size=32)"
   ]
  },
  {
   "cell_type": "code",
   "execution_count": 14,
   "metadata": {
    "id": "iyNa8le2ZCHi"
   },
   "outputs": [],
   "source": [
    "unified_model.save('forecasting_model.h5')"
   ]
  },
  {
   "cell_type": "code",
   "execution_count": 15,
   "metadata": {
    "id": "AyOK39Mg5XGU"
   },
   "outputs": [
    {
     "name": "stdout",
     "output_type": "stream",
     "text": [
      "7500/7500 [==============================] - 24s 3ms/step\n"
     ]
    }
   ],
   "source": [
    "y_pred = unified_model.predict(X_test)"
   ]
  },
  {
   "cell_type": "code",
   "execution_count": 16,
   "metadata": {},
   "outputs": [],
   "source": [
    "def mean_squared_error(y_true, y_pred):\n",
    "    mse = np.mean((y_true - y_pred)**2)\n",
    "    return mse"
   ]
  },
  {
   "cell_type": "code",
   "execution_count": 17,
   "metadata": {},
   "outputs": [
    {
     "data": {
      "text/plain": [
       "0.035172780462669175"
      ]
     },
     "execution_count": 17,
     "metadata": {},
     "output_type": "execute_result"
    }
   ],
   "source": [
    "mean_squared_error(y_test, y_pred)"
   ]
  },
  {
   "cell_type": "code",
   "execution_count": 9,
   "metadata": {},
   "outputs": [
    {
     "data": {
      "text/plain": [
       "(370, 6)"
      ]
     },
     "execution_count": 9,
     "metadata": {},
     "output_type": "execute_result"
    }
   ],
   "source": [
    "testingDf = updatedDf.iloc[:370, :]\n",
    "testingDf.shape"
   ]
  },
  {
   "cell_type": "code",
   "execution_count": 30,
   "metadata": {},
   "outputs": [
    {
     "name": "stdout",
     "output_type": "stream",
     "text": [
      "10/10 [==============================] - 0s 14ms/step\n"
     ]
    }
   ],
   "source": [
    "X_testing, y_testing = process_input(testingDf)\n",
    "y_prediction = model.predict(X_testing)"
   ]
  },
  {
   "cell_type": "code",
   "execution_count": 31,
   "metadata": {},
   "outputs": [
    {
     "data": {
      "text/plain": [
       "(300, 6)"
      ]
     },
     "execution_count": 31,
     "metadata": {},
     "output_type": "execute_result"
    }
   ],
   "source": [
    "y_prediction.shape"
   ]
  },
  {
   "cell_type": "code",
   "execution_count": 32,
   "metadata": {},
   "outputs": [
    {
     "data": {
      "text/plain": [
       "70    -5.196113\n",
       "71    -4.843612\n",
       "72    -4.926178\n",
       "73    -4.938103\n",
       "74    -5.094675\n",
       "         ...   \n",
       "365   -3.014256\n",
       "366   -3.143760\n",
       "367   -2.875529\n",
       "368   -3.029810\n",
       "369   -3.406149\n",
       "Name: wind_bx_gsm, Length: 300, dtype: float64"
      ]
     },
     "execution_count": 32,
     "metadata": {},
     "output_type": "execute_result"
    }
   ],
   "source": [
    "testingDf[70:]['wind_bx_gsm']"
   ]
  },
  {
   "cell_type": "code",
   "execution_count": 53,
   "metadata": {},
   "outputs": [
    {
     "data": {
      "image/png": "[encoded data removed]",
      "text/plain": [
       "<Figure size 1080x432 with 1 Axes>"
      ]
     },
     "metadata": {
      "needs_background": "light"
     },
     "output_type": "display_data"
    }
   ],
   "source": [
    "import numpy as np\n",
    "import matplotlib.pyplot as plt\n",
    "\n",
    "# Create the x-axis values\n",
    "x_values = np.linspace(0, 299, 299)\n",
    "\n",
    "plt.figure(figsize = (15,6))\n",
    "# Plotting the first line with a wider line width\n",
    "plt.plot(x_values, testingDf[70:-1]['wind_bx_gsm'], label='GT-GSM-Bx', color='r')\n",
    "plt.plot(x_values, testingDf[70:-1]['wind_bz_gsm'], label='GT-GSM-Bz', color='b')\n",
    "\n",
    "# Plotting the second line with a dashed line style and wider line width\n",
    "plt.plot(x_values, y_prediction[1:, 0], label='Pred-GSM-Bx', color='black', linestyle='--')\n",
    "plt.plot(x_values, y_prediction[1:, 2], label='Pred-GSM-Bz', color='black', linestyle='--')\n",
    "\n",
    "# Adding title and labels\n",
    "plt.title('Data forcasting')\n",
    "plt.xlabel('Time')\n",
    "plt.ylabel('Mag')\n",
    "\n",
    "# Adding a legend to explain which line is which\n",
    "plt.legend()\n",
    "\n",
    "# Display the plot\n",
    "plt.show()"
   ]
  },
  {
   "cell_type": "code",
   "execution_count": null,
   "metadata": {},
   "outputs": [],
   "source": []
  },
  {
   "cell_type": "code",
   "execution_count": null,
   "metadata": {},
   "outputs": [],
   "source": []
  }
 ],
 "metadata": {
  "colab": {
   "provenance": []
  },
  "kernelspec": {
   "display_name": "Python 3 (ipykernel)",
   "language": "python",
   "name": "python3"
  },
  "language_info": {
   "codemirror_mode": {
    "name": "ipython",
    "version": 3
   },
   "file_extension": ".py",
   "mimetype": "text/x-python",
   "name": "python",
   "nbconvert_exporter": "python",
   "pygments_lexer": "ipython3",
   "version": "3.9.12"
  }
 },
 "nbformat": 4,
 "nbformat_minor": 1
}
