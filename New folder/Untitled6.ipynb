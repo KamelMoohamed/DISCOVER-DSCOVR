{
 "cells": [
  {
   "cell_type": "code",
   "execution_count": null,
   "id": "c18cff99",
   "metadata": {},
   "outputs": [],
   "source": [
    "from tensorflow.keras.models import load_model\n",
    "from transformers import TFBertModel\n"
   ]
  },
  {
   "cell_type": "code",
   "execution_count": null,
   "id": "de9a8af6",
   "metadata": {},
   "outputs": [],
   "source": [
    "custom_objects = {'TFBertModel': TFBertModel}\n",
    "\n",
    "load_model('kp_prediction.h5', custom_objects)"
   ]
  },
  {
   "cell_type": "code",
   "execution_count": null,
   "id": "e0221c6f",
   "metadata": {},
   "outputs": [],
   "source": []
  }
 ],
 "metadata": {
  "kernelspec": {
   "display_name": "Python 3 (ipykernel)",
   "language": "python",
   "name": "python3"
  },
  "language_info": {
   "codemirror_mode": {
    "name": "ipython",
    "version": 3
   },
   "file_extension": ".py",
   "mimetype": "text/x-python",
   "name": "python",
   "nbconvert_exporter": "python",
   "pygments_lexer": "ipython3",
   "version": "3.9.12"
  }
 },
 "nbformat": 4,
 "nbformat_minor": 5
}
